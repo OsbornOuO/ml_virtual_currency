{
  "nbformat": 4,
  "nbformat_minor": 0,
  "metadata": {
    "colab": {
      "name": "01.ipynb",
      "provenance": [],
      "collapsed_sections": [],
      "mount_file_id": "10E-rDxNVZJEjw1yzcyFoERXsQwKqiMgw",
      "authorship_tag": "ABX9TyPD9U4wrSpNK0dFvo4UBiA1",
      "include_colab_link": true
    },
    "kernelspec": {
      "display_name": "Python 3",
      "name": "python3"
    }
  },
  "cells": [
    {
      "cell_type": "markdown",
      "metadata": {
        "id": "view-in-github",
        "colab_type": "text"
      },
      "source": [
        "<a href=\"https://colab.research.google.com/github/OsbornOuO/ml_virtual_currency/blob/main/01.ipynb\" target=\"_parent\"><img src=\"https://colab.research.google.com/assets/colab-badge.svg\" alt=\"Open In Colab\"/></a>"
      ]
    },
    {
      "cell_type": "code",
      "metadata": {
        "colab": {
          "background_save": true
        },
        "id": "sl0DRx2S_ryH"
      },
      "source": [
        "!pip install finlab_crypto"
      ],
      "execution_count": null,
      "outputs": []
    },
    {
      "cell_type": "code",
      "metadata": {
        "id": "vYuANeWYAC0n"
      },
      "source": [
        "import finlab_crypto\n",
        "\n",
        "finlab_crypto.setup()"
      ],
      "execution_count": 4,
      "outputs": []
    },
    {
      "cell_type": "code",
      "metadata": {
        "colab": {
          "base_uri": "https://localhost:8080/"
        },
        "id": "Pny9xCGOWxU_",
        "outputId": "e7e45d92-848d-4981-aa44-b06a1514708b"
      },
      "source": [
        "ohlcv = finlab_crypto.crawler.get_all_binance(\"BTCUSDT\",'4h')"
      ],
      "execution_count": 7,
      "outputs": [
        {
          "output_type": "stream",
          "text": [
            "Downloading 0 minutes of new data available for BTCUSDT, i.e. 0 instances of 4h data.\n",
            "All caught up..!\n"
          ],
          "name": "stdout"
        }
      ]
    },
    {
      "cell_type": "code",
      "metadata": {
        "colab": {
          "base_uri": "https://localhost:8080/",
          "height": 309
        },
        "id": "Jt_OkUETZh6t",
        "outputId": "35aa8961-0b48-4410-b72c-e692f9b1c391"
      },
      "source": [
        "ohlcv.head()"
      ],
      "execution_count": 8,
      "outputs": [
        {
          "output_type": "execute_result",
          "data": {
            "text/html": [
              "<div>\n",
              "<style scoped>\n",
              "    .dataframe tbody tr th:only-of-type {\n",
              "        vertical-align: middle;\n",
              "    }\n",
              "\n",
              "    .dataframe tbody tr th {\n",
              "        vertical-align: top;\n",
              "    }\n",
              "\n",
              "    .dataframe thead th {\n",
              "        text-align: right;\n",
              "    }\n",
              "</style>\n",
              "<table border=\"1\" class=\"dataframe\">\n",
              "  <thead>\n",
              "    <tr style=\"text-align: right;\">\n",
              "      <th></th>\n",
              "      <th>open</th>\n",
              "      <th>high</th>\n",
              "      <th>low</th>\n",
              "      <th>close</th>\n",
              "      <th>volume</th>\n",
              "      <th>close_time</th>\n",
              "      <th>quote_av</th>\n",
              "      <th>trades</th>\n",
              "      <th>tb_base_av</th>\n",
              "      <th>tb_quote_av</th>\n",
              "      <th>ignore</th>\n",
              "    </tr>\n",
              "    <tr>\n",
              "      <th>timestamp</th>\n",
              "      <th></th>\n",
              "      <th></th>\n",
              "      <th></th>\n",
              "      <th></th>\n",
              "      <th></th>\n",
              "      <th></th>\n",
              "      <th></th>\n",
              "      <th></th>\n",
              "      <th></th>\n",
              "      <th></th>\n",
              "      <th></th>\n",
              "    </tr>\n",
              "  </thead>\n",
              "  <tbody>\n",
              "    <tr>\n",
              "      <th>2017-08-17 04:00:00+00:00</th>\n",
              "      <td>4261.48</td>\n",
              "      <td>4349.99</td>\n",
              "      <td>4261.32</td>\n",
              "      <td>4349.99</td>\n",
              "      <td>82.088865</td>\n",
              "      <td>1.502957e+12</td>\n",
              "      <td>3.531943e+05</td>\n",
              "      <td>334.0</td>\n",
              "      <td>64.013727</td>\n",
              "      <td>275647.421911</td>\n",
              "      <td>8048.127886</td>\n",
              "    </tr>\n",
              "    <tr>\n",
              "      <th>2017-08-17 08:00:00+00:00</th>\n",
              "      <td>4333.32</td>\n",
              "      <td>4485.39</td>\n",
              "      <td>4333.32</td>\n",
              "      <td>4427.30</td>\n",
              "      <td>63.619882</td>\n",
              "      <td>1.502971e+12</td>\n",
              "      <td>2.825012e+05</td>\n",
              "      <td>248.0</td>\n",
              "      <td>58.787633</td>\n",
              "      <td>261054.051154</td>\n",
              "      <td>8020.698096</td>\n",
              "    </tr>\n",
              "    <tr>\n",
              "      <th>2017-08-17 12:00:00+00:00</th>\n",
              "      <td>4436.06</td>\n",
              "      <td>4485.39</td>\n",
              "      <td>4333.42</td>\n",
              "      <td>4352.34</td>\n",
              "      <td>174.562001</td>\n",
              "      <td>1.502986e+12</td>\n",
              "      <td>7.742388e+05</td>\n",
              "      <td>858.0</td>\n",
              "      <td>125.184133</td>\n",
              "      <td>555419.758061</td>\n",
              "      <td>8133.190658</td>\n",
              "    </tr>\n",
              "    <tr>\n",
              "      <th>2017-08-17 16:00:00+00:00</th>\n",
              "      <td>4352.33</td>\n",
              "      <td>4354.84</td>\n",
              "      <td>4200.74</td>\n",
              "      <td>4325.23</td>\n",
              "      <td>225.109716</td>\n",
              "      <td>1.503000e+12</td>\n",
              "      <td>9.652911e+05</td>\n",
              "      <td>986.0</td>\n",
              "      <td>165.036363</td>\n",
              "      <td>707808.200922</td>\n",
              "      <td>8425.112852</td>\n",
              "    </tr>\n",
              "    <tr>\n",
              "      <th>2017-08-17 20:00:00+00:00</th>\n",
              "      <td>4307.56</td>\n",
              "      <td>4369.69</td>\n",
              "      <td>4258.56</td>\n",
              "      <td>4285.08</td>\n",
              "      <td>249.769913</td>\n",
              "      <td>1.503014e+12</td>\n",
              "      <td>1.079545e+06</td>\n",
              "      <td>1001.0</td>\n",
              "      <td>203.226685</td>\n",
              "      <td>878286.968557</td>\n",
              "      <td>8733.911395</td>\n",
              "    </tr>\n",
              "  </tbody>\n",
              "</table>\n",
              "</div>"
            ],
            "text/plain": [
              "                              open     high  ...    tb_quote_av       ignore\n",
              "timestamp                                    ...                            \n",
              "2017-08-17 04:00:00+00:00  4261.48  4349.99  ...  275647.421911  8048.127886\n",
              "2017-08-17 08:00:00+00:00  4333.32  4485.39  ...  261054.051154  8020.698096\n",
              "2017-08-17 12:00:00+00:00  4436.06  4485.39  ...  555419.758061  8133.190658\n",
              "2017-08-17 16:00:00+00:00  4352.33  4354.84  ...  707808.200922  8425.112852\n",
              "2017-08-17 20:00:00+00:00  4307.56  4369.69  ...  878286.968557  8733.911395\n",
              "\n",
              "[5 rows x 11 columns]"
            ]
          },
          "metadata": {
            "tags": []
          },
          "execution_count": 8
        }
      ]
    },
    {
      "cell_type": "code",
      "metadata": {
        "colab": {
          "base_uri": "https://localhost:8080/",
          "height": 298
        },
        "id": "pNPzDKf2Z7wo",
        "outputId": "4ffc2e58-e0bb-4f93-e43e-845e6136bf3e"
      },
      "source": [
        "close = ohlcv.close\n",
        "sma20 = close.rolling(20).mean()\n",
        "sma60 = close.rolling(60).mean()\n",
        "\n",
        "entries = (sma20 > sma60) & (sma20.shift() < sma60.shift())\n",
        "exits = (sma20 < sma60) & (sma20.shift() > sma60.shift())\n",
        "\n",
        "close.plot()\n",
        "sma20.plot()\n",
        "sma60.plot()\n",
        "\n",
        "entries.astype(int).plot(secondary_y=True)\n",
        "(-exits.astype(int)).plot(secondary_y=True)"
      ],
      "execution_count": 22,
      "outputs": [
        {
          "output_type": "execute_result",
          "data": {
            "text/plain": [
              "<matplotlib.axes._subplots.AxesSubplot at 0x7f127b26efd0>"
            ]
          },
          "metadata": {
            "tags": []
          },
          "execution_count": 22
        },
        {
          "output_type": "display_data",
          "data": {
            "image/png": "[encoded data removed]",
            "text/plain": [
              "<Figure size 432x288 with 2 Axes>"
            ]
          },
          "metadata": {
            "tags": [],
            "needs_background": "light"
          }
        }
      ]
    },
    {
      "cell_type": "code",
      "metadata": {
        "id": "19hXG-NCcOMw"
      },
      "source": [
        "import vectorbt as vbt\n",
        "\n",
        "portfolio = vbt.Portfolio.from_signals(close,entries,exits,freq='4h')"
      ],
      "execution_count": 25,
      "outputs": []
    },
    {
      "cell_type": "code",
      "metadata": {
        "colab": {
          "base_uri": "https://localhost:8080/",
          "height": 294
        },
        "id": "PQ_6bpmHc2sF",
        "outputId": "b814409b-b62e-4c55-a64e-88e00c7e810b"
      },
      "source": [
        "portfolio.annual_returns()"
      ],
      "execution_count": 31,
      "outputs": [
        {
          "output_type": "execute_result",
          "data": {
            "text/plain": [
              "<matplotlib.axes._subplots.AxesSubplot at 0x7f12798a1b70>"
            ]
          },
          "metadata": {
            "tags": []
          },
          "execution_count": 31
        },
        {
          "output_type": "display_data",
          "data": {
            "image/png": "[encoded data removed]",
            "text/plain": [
              "<Figure size 432x288 with 1 Axes>"
            ]
          },
          "metadata": {
            "tags": [],
            "needs_background": "light"
          }
        }
      ]
    },
    {
      "cell_type": "code",
      "metadata": {
        "colab": {
          "base_uri": "https://localhost:8080/",
          "height": 294
        },
        "id": "yiNqMlV5dd07",
        "outputId": "3e304639-2c3e-458e-fd18-8e673f8a23ea"
      },
      "source": [
        "portfolio.drawdown().plot()"
      ],
      "execution_count": 32,
      "outputs": [
        {
          "output_type": "execute_result",
          "data": {
            "text/plain": [
              "<matplotlib.axes._subplots.AxesSubplot at 0x7f1279a98ba8>"
            ]
          },
          "metadata": {
            "tags": []
          },
          "execution_count": 32
        },
        {
          "output_type": "display_data",
          "data": {
            "image/png": "[encoded data removed]",
            "text/plain": [
              "<Figure size 432x288 with 1 Axes>"
            ]
          },
          "metadata": {
            "tags": [],
            "needs_background": "light"
          }
        }
      ]
    },
    {
      "cell_type": "code",
      "metadata": {
        "colab": {
          "base_uri": "https://localhost:8080/",
          "height": 294
        },
        "id": "T6jstACZdgpb",
        "outputId": "a199cdb3-f387-49a1-ac41-ea94e1f9e3c2"
      },
      "source": [
        "portfolio.cumulative_returns().plot()"
      ],
      "execution_count": 33,
      "outputs": [
        {
          "output_type": "execute_result",
          "data": {
            "text/plain": [
              "<matplotlib.axes._subplots.AxesSubplot at 0x7f127a012ba8>"
            ]
          },
          "metadata": {
            "tags": []
          },
          "execution_count": 33
        },
        {
          "output_type": "display_data",
          "data": {
            "image/png": "[encoded data removed]",
            "text/plain": [
              "<Figure size 432x288 with 1 Axes>"
            ]
          },
          "metadata": {
            "tags": [],
            "needs_background": "light"
          }
        }
      ]
    },
    {
      "cell_type": "code",
      "metadata": {
        "colab": {
          "base_uri": "https://localhost:8080/",
          "height": 402
        },
        "id": "KJJekWrgdlYe",
        "outputId": "57b240be-c837-47b8-8282-26515dae1396"
      },
      "source": [
        "portfolio.positions().records"
      ],
      "execution_count": 35,
      "outputs": [
        {
          "output_type": "execute_result",
          "data": {
            "text/html": [
              "<div>\n",
              "<style scoped>\n",
              "    .dataframe tbody tr th:only-of-type {\n",
              "        vertical-align: middle;\n",
              "    }\n",
              "\n",
              "    .dataframe tbody tr th {\n",
              "        vertical-align: top;\n",
              "    }\n",
              "\n",
              "    .dataframe thead th {\n",
              "        text-align: right;\n",
              "    }\n",
              "</style>\n",
              "<table border=\"1\" class=\"dataframe\">\n",
              "  <thead>\n",
              "    <tr style=\"text-align: right;\">\n",
              "      <th></th>\n",
              "      <th>col</th>\n",
              "      <th>size</th>\n",
              "      <th>entry_idx</th>\n",
              "      <th>entry_price</th>\n",
              "      <th>entry_fees</th>\n",
              "      <th>exit_idx</th>\n",
              "      <th>exit_price</th>\n",
              "      <th>exit_fees</th>\n",
              "      <th>pnl</th>\n",
              "      <th>return</th>\n",
              "      <th>status</th>\n",
              "    </tr>\n",
              "  </thead>\n",
              "  <tbody>\n",
              "    <tr>\n",
              "      <th>0</th>\n",
              "      <td>0</td>\n",
              "      <td>0.023527</td>\n",
              "      <td>136</td>\n",
              "      <td>4246.25201</td>\n",
              "      <td>0.099900</td>\n",
              "      <td>140</td>\n",
              "      <td>4249.44630</td>\n",
              "      <td>0.099975</td>\n",
              "      <td>-0.124724</td>\n",
              "      <td>-0.001247</td>\n",
              "      <td>1</td>\n",
              "    </tr>\n",
              "    <tr>\n",
              "      <th>1</th>\n",
              "      <td>0</td>\n",
              "      <td>0.025377</td>\n",
              "      <td>204</td>\n",
              "      <td>3931.69777</td>\n",
              "      <td>0.099776</td>\n",
              "      <td>225</td>\n",
              "      <td>3776.22000</td>\n",
              "      <td>0.095830</td>\n",
              "      <td>-4.141197</td>\n",
              "      <td>-0.041464</td>\n",
              "      <td>1</td>\n",
              "    </tr>\n",
              "    <tr>\n",
              "      <th>2</th>\n",
              "      <td>0</td>\n",
              "      <td>0.024191</td>\n",
              "      <td>240</td>\n",
              "      <td>3953.39945</td>\n",
              "      <td>0.095638</td>\n",
              "      <td>417</td>\n",
              "      <td>5684.30001</td>\n",
              "      <td>0.137511</td>\n",
              "      <td>41.639834</td>\n",
              "      <td>0.434953</td>\n",
              "      <td>1</td>\n",
              "    </tr>\n",
              "    <tr>\n",
              "      <th>3</th>\n",
              "      <td>0</td>\n",
              "      <td>0.022531</td>\n",
              "      <td>440</td>\n",
              "      <td>6091.08500</td>\n",
              "      <td>0.137237</td>\n",
              "      <td>513</td>\n",
              "      <td>6500.47302</td>\n",
              "      <td>0.146460</td>\n",
              "      <td>8.940119</td>\n",
              "      <td>0.065079</td>\n",
              "      <td>1</td>\n",
              "    </tr>\n",
              "    <tr>\n",
              "      <th>4</th>\n",
              "      <td>0</td>\n",
              "      <td>0.019661</td>\n",
              "      <td>547</td>\n",
              "      <td>7434.42700</td>\n",
              "      <td>0.146168</td>\n",
              "      <td>758</td>\n",
              "      <td>14686.23906</td>\n",
              "      <td>0.288745</td>\n",
              "      <td>142.142569</td>\n",
              "      <td>0.971490</td>\n",
              "      <td>1</td>\n",
              "    </tr>\n",
              "    <tr>\n",
              "      <th>...</th>\n",
              "      <td>...</td>\n",
              "      <td>...</td>\n",
              "      <td>...</td>\n",
              "      <td>...</td>\n",
              "      <td>...</td>\n",
              "      <td>...</td>\n",
              "      <td>...</td>\n",
              "      <td>...</td>\n",
              "      <td>...</td>\n",
              "      <td>...</td>\n",
              "      <td>...</td>\n",
              "    </tr>\n",
              "    <tr>\n",
              "      <th>65</th>\n",
              "      <td>0</td>\n",
              "      <td>0.020733</td>\n",
              "      <td>6643</td>\n",
              "      <td>11630.26865</td>\n",
              "      <td>0.241131</td>\n",
              "      <td>6665</td>\n",
              "      <td>10130.70915</td>\n",
              "      <td>0.210040</td>\n",
              "      <td>-31.541587</td>\n",
              "      <td>-0.130676</td>\n",
              "      <td>1</td>\n",
              "    </tr>\n",
              "    <tr>\n",
              "      <th>66</th>\n",
              "      <td>0</td>\n",
              "      <td>0.019838</td>\n",
              "      <td>6720</td>\n",
              "      <td>10566.81626</td>\n",
              "      <td>0.209621</td>\n",
              "      <td>6778</td>\n",
              "      <td>10481.47803</td>\n",
              "      <td>0.207928</td>\n",
              "      <td>-2.110457</td>\n",
              "      <td>-0.010058</td>\n",
              "      <td>1</td>\n",
              "    </tr>\n",
              "    <tr>\n",
              "      <th>67</th>\n",
              "      <td>0</td>\n",
              "      <td>0.019241</td>\n",
              "      <td>6809</td>\n",
              "      <td>10785.02425</td>\n",
              "      <td>0.207512</td>\n",
              "      <td>6841</td>\n",
              "      <td>10517.22225</td>\n",
              "      <td>0.202360</td>\n",
              "      <td>-5.562592</td>\n",
              "      <td>-0.026779</td>\n",
              "      <td>1</td>\n",
              "    </tr>\n",
              "    <tr>\n",
              "      <th>68</th>\n",
              "      <td>0</td>\n",
              "      <td>0.018515</td>\n",
              "      <td>6873</td>\n",
              "      <td>10907.85696</td>\n",
              "      <td>0.201955</td>\n",
              "      <td>7172</td>\n",
              "      <td>16772.58063</td>\n",
              "      <td>0.310539</td>\n",
              "      <td>108.070877</td>\n",
              "      <td>0.534588</td>\n",
              "      <td>1</td>\n",
              "    </tr>\n",
              "    <tr>\n",
              "      <th>69</th>\n",
              "      <td>0</td>\n",
              "      <td>0.015865</td>\n",
              "      <td>7195</td>\n",
              "      <td>19535.14563</td>\n",
              "      <td>0.309918</td>\n",
              "      <td>7243</td>\n",
              "      <td>17906.14593</td>\n",
              "      <td>0.284075</td>\n",
              "      <td>-26.437498</td>\n",
              "      <td>-0.085220</td>\n",
              "      <td>1</td>\n",
              "    </tr>\n",
              "  </tbody>\n",
              "</table>\n",
              "<p>70 rows × 11 columns</p>\n",
              "</div>"
            ],
            "text/plain": [
              "    col      size  entry_idx  ...         pnl    return  status\n",
              "0     0  0.023527        136  ...   -0.124724 -0.001247       1\n",
              "1     0  0.025377        204  ...   -4.141197 -0.041464       1\n",
              "2     0  0.024191        240  ...   41.639834  0.434953       1\n",
              "3     0  0.022531        440  ...    8.940119  0.065079       1\n",
              "4     0  0.019661        547  ...  142.142569  0.971490       1\n",
              "..  ...       ...        ...  ...         ...       ...     ...\n",
              "65    0  0.020733       6643  ...  -31.541587 -0.130676       1\n",
              "66    0  0.019838       6720  ...   -2.110457 -0.010058       1\n",
              "67    0  0.019241       6809  ...   -5.562592 -0.026779       1\n",
              "68    0  0.018515       6873  ...  108.070877  0.534588       1\n",
              "69    0  0.015865       7195  ...  -26.437498 -0.085220       1\n",
              "\n",
              "[70 rows x 11 columns]"
            ]
          },
          "metadata": {
            "tags": []
          },
          "execution_count": 35
        }
      ]
    }
  ]
}